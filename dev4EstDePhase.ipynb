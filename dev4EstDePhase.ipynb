{
 "cells": [
  {
   "cell_type": "markdown",
   "metadata": {},
   "source": [
    "# Algorithme d'estimation de phase\n",
    "Francis Blais (2151696) et Vincent Girouard (2152383)\n",
    "\n",
    "12 novembre 2023\n",
    "## Objectif de l'algorithme\n",
    "L'algorithme d'estimation de phase est un algorithme assez particulier dans le sens que le problème qu'il essaie de résoudre est purement quantique***. On considère un opérateur unitaire inconnu $U$ et un état d'entrée $\\ket{\\psi}$ de $n$ qubits. Il nous est assuré que $\\ket{\\psi}$ est un état propre de $U$ tel que\n",
    "\n",
    "$$ U\\ket{\\psi} = \\lambda\\ket{\\psi}  $$\n",
    "\n",
    "où $\\lambda$ est la valeur propre associée à l'état $\\ket{\\psi}$. Comme $U$ est unitaire, $|\\lambda|^2=1$ ce qui permet de simplifier le problème en décrivant complètement la valeur propre par une phase $\\theta\\in[0,1[$ comme suit : $\\lambda = e^{i2\\pi\\theta}$. Comme son nom l'indique, l'algorithme d'estimation de phase a pour objectif d'approximer selon une précision voulue la valeur de $\\theta$. On parle ici d'approximation, car la précision à laquelle il sera possible de connaitre $\\theta$ dépendra du nombre de quibit de référence choisi. Cet algorithme diffère un peu d'autres algorithmes quantiques dans le sens qu'ici, l'entrée comprend un état quantique $\\ket{\\psi}$. De ce fait, cet algorithme est souvent utilisé en pair avec d'autres algorithmes plus complexes. C'est noramment une partie très importante de l'algorithme de Shor permettant de factoriser des entiers. \n",
    "\n",
    "## Description de l'algorithme\n",
    "\n",
    "## Principe de fonctionnement\n",
    "\n",
    "## Implémentation"
   ]
  },
  {
   "cell_type": "code",
   "execution_count": 3,
   "metadata": {},
   "outputs": [],
   "source": [
    "import numpy as np\n",
    "from numpy import pi\n",
    "from qutip import Qobj, about\n",
    "from qutip.qip import *\n",
    "from qutip.qip.circuit import QubitCircuit\n",
    "from qutip.qip.operations import *\n",
    "# (Gate, berkeley, cnot, cphase, csign, fredkin,\n",
    "#                                   gate_sequence_product, globalphase, iswap,\n",
    "#                                   molmer_sorensen, phasegate, qrot, rx, ry, rz,\n",
    "#                                   snot, sqrtiswap, sqrtnot, sqrtswap, swap,\n",
    "#                                   swapalpha, toffoli)\n",
    "\n",
    "%matplotlib inline"
   ]
  },
  {
   "cell_type": "code",
   "execution_count": 5,
   "metadata": {},
   "outputs": [
    {
     "ename": "RuntimeError",
     "evalue": "Could not find system 'pdflatex'.",
     "output_type": "error",
     "traceback": [
      "\u001b[1;31m---------------------------------------------------------------------------\u001b[0m",
      "\u001b[1;31mRuntimeError\u001b[0m                              Traceback (most recent call last)",
      "\u001b[1;32mc:\\Users\\franc\\Documents\\VSCode\\Git\\quantiqueIIDev4\\dev4EstDePhase.ipynb Cell 3\u001b[0m line \u001b[0;36m3\n\u001b[0;32m      <a href='vscode-notebook-cell:/c%3A/Users/franc/Documents/VSCode/Git/quantiqueIIDev4/dev4EstDePhase.ipynb#W2sZmlsZQ%3D%3D?line=0'>1</a>\u001b[0m q \u001b[39m=\u001b[39m QubitCircuit(\u001b[39m2\u001b[39m, reverse_states\u001b[39m=\u001b[39m\u001b[39mFalse\u001b[39;00m)\n\u001b[0;32m      <a href='vscode-notebook-cell:/c%3A/Users/franc/Documents/VSCode/Git/quantiqueIIDev4/dev4EstDePhase.ipynb#W2sZmlsZQ%3D%3D?line=1'>2</a>\u001b[0m q\u001b[39m.\u001b[39madd_gate(\u001b[39m\"\u001b[39m\u001b[39mCSIGN\u001b[39m\u001b[39m\"\u001b[39m, controls\u001b[39m=\u001b[39m[\u001b[39m0\u001b[39m], targets\u001b[39m=\u001b[39m[\u001b[39m1\u001b[39m])\n\u001b[1;32m----> <a href='vscode-notebook-cell:/c%3A/Users/franc/Documents/VSCode/Git/quantiqueIIDev4/dev4EstDePhase.ipynb#W2sZmlsZQ%3D%3D?line=2'>3</a>\u001b[0m q\u001b[39m.\u001b[39;49mpng\n",
      "File \u001b[1;32m~\\AppData\\Local\\Packages\\PythonSoftwareFoundation.Python.3.9_qbz5n2kfra8p0\\LocalCache\\local-packages\\Python39\\site-packages\\qutip\\qip\\circuit.py:1773\u001b[0m, in \u001b[0;36mQubitCircuit.png\u001b[1;34m(self)\u001b[0m\n\u001b[0;32m   1771\u001b[0m \u001b[39m@property\u001b[39m\n\u001b[0;32m   1772\u001b[0m \u001b[39mdef\u001b[39;00m \u001b[39mpng\u001b[39m(\u001b[39mself\u001b[39m):\n\u001b[1;32m-> 1773\u001b[0m     \u001b[39mreturn\u001b[39;00m DisplayImage(\u001b[39mself\u001b[39;49m\u001b[39m.\u001b[39;49m_raw_png(), embed\u001b[39m=\u001b[39m\u001b[39mTrue\u001b[39;00m)\n",
      "File \u001b[1;32m~\\AppData\\Local\\Packages\\PythonSoftwareFoundation.Python.3.9_qbz5n2kfra8p0\\LocalCache\\local-packages\\Python39\\site-packages\\qutip\\qip\\circuit.py:1766\u001b[0m, in \u001b[0;36mQubitCircuit._raw_png\u001b[1;34m(self)\u001b[0m\n\u001b[0;32m   1765\u001b[0m \u001b[39mdef\u001b[39;00m \u001b[39m_raw_png\u001b[39m(\u001b[39mself\u001b[39m):\n\u001b[1;32m-> 1766\u001b[0m     \u001b[39mreturn\u001b[39;00m _latex\u001b[39m.\u001b[39;49mimage_from_latex(\u001b[39mself\u001b[39;49m\u001b[39m.\u001b[39;49mlatex_code(), \u001b[39m\"\u001b[39;49m\u001b[39mpng\u001b[39;49m\u001b[39m\"\u001b[39;49m)\n",
      "File \u001b[1;32m~\\AppData\\Local\\Packages\\PythonSoftwareFoundation.Python.3.9_qbz5n2kfra8p0\\LocalCache\\local-packages\\Python39\\site-packages\\qutip\\qip\\circuit_latex.py:230\u001b[0m, in \u001b[0;36mimage_from_latex\u001b[1;34m(*args, **kwargs)\u001b[0m\n\u001b[0;32m    229\u001b[0m \u001b[39mdef\u001b[39;00m \u001b[39mimage_from_latex\u001b[39m(\u001b[39m*\u001b[39margs, \u001b[39m*\u001b[39m\u001b[39m*\u001b[39mkwargs):\n\u001b[1;32m--> 230\u001b[0m     \u001b[39mraise\u001b[39;00m \u001b[39mRuntimeError\u001b[39;00m(\u001b[39m\"\u001b[39m\u001b[39mCould not find system \u001b[39m\u001b[39m'\u001b[39m\u001b[39mpdflatex\u001b[39m\u001b[39m'\u001b[39m\u001b[39m.\u001b[39m\u001b[39m\"\u001b[39m)\n",
      "\u001b[1;31mRuntimeError\u001b[0m: Could not find system 'pdflatex'."
     ]
    }
   ],
   "source": [
    "q = QubitCircuit(2, reverse_states=False)\n",
    "q.add_gate(\"CSIGN\", controls=[0], targets=[1])\n",
    "q.png"
   ]
  }
 ],
 "metadata": {
  "kernelspec": {
   "display_name": "Python 3",
   "language": "python",
   "name": "python3"
  },
  "language_info": {
   "codemirror_mode": {
    "name": "ipython",
    "version": 3
   },
   "file_extension": ".py",
   "mimetype": "text/x-python",
   "name": "python",
   "nbconvert_exporter": "python",
   "pygments_lexer": "ipython3",
   "version": "3.9.13"
  }
 },
 "nbformat": 4,
 "nbformat_minor": 2
}
