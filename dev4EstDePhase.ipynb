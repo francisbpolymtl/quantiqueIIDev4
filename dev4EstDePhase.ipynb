{
 "cells": [
  {
   "cell_type": "markdown",
   "metadata": {},
   "source": [
    "# Algorithme d'estimation de phase\n",
    "\n",
    "## Objectif de l'algorithme\n",
    "\n",
    "## Description de l'algorithme\n",
    "\n",
    "## Principe de fonctionnement\n",
    "\n",
    "## Implémentation"
   ]
  }
 ],
 "metadata": {
  "language_info": {
   "name": "python"
  }
 },
 "nbformat": 4,
 "nbformat_minor": 2
}
